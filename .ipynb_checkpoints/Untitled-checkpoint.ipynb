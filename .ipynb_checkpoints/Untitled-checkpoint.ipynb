{
 "cells": [
  {
   "cell_type": "code",
   "execution_count": 14,
   "metadata": {
    "collapsed": false
   },
   "outputs": [
    {
     "data": {
      "text/plain": [
       "[\"Animals\", \"Cats\", \"Bombay\"]"
      ]
     },
     "execution_count": 14,
     "metadata": {},
     "output_type": "execute_result"
    }
   ],
   "source": [
    "module CodaGem\n",
    "  # Your code goes here...\n",
    "  def self.create(path)\n",
    "  \t# A::B::C\n",
    "\n",
    "  \t# define root\n",
    "  \troot = Object\n",
    "  \t#split ::root\n",
    "  \tpath.split('::').each do |name|\n",
    "  \t\tnew_module = Object.const_defined?(name)? Object.const_get(name) : nil\n",
    "\n",
    "  \t\tunless new_module\n",
    "  \t\t\tnew_module = root.new\n",
    "  \t\t\troot.const_set(name, new_module)\n",
    "  \t\tend\n",
    "  \t\troot = new_module\n",
    "  \t\t\n",
    "  \tend\n",
    "  end\n",
    "end\n",
    "\n",
    "\n"
   ]
  },
  {
   "cell_type": "code",
   "execution_count": null,
   "metadata": {
    "collapsed": true
   },
   "outputs": [],
   "source": []
  },
  {
   "cell_type": "code",
   "execution_count": null,
   "metadata": {
    "collapsed": true
   },
   "outputs": [],
   "source": []
  },
  {
   "cell_type": "code",
   "execution_count": null,
   "metadata": {
    "collapsed": true
   },
   "outputs": [],
   "source": []
  },
  {
   "cell_type": "code",
   "execution_count": null,
   "metadata": {
    "collapsed": true
   },
   "outputs": [],
   "source": []
  },
  {
   "cell_type": "code",
   "execution_count": null,
   "metadata": {
    "collapsed": true
   },
   "outputs": [],
   "source": []
  }
 ],
 "metadata": {
  "kernelspec": {
   "display_name": "Ruby 2.1.3",
   "language": "ruby",
   "name": "ruby"
  },
  "language_info": {
   "file_extension": "rb",
   "mimetype": "application/x-ruby",
   "name": "ruby",
   "version": "2.1.3"
  }
 },
 "nbformat": 4,
 "nbformat_minor": 0
}
