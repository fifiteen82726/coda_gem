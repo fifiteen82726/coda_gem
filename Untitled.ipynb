{
 "cells": [
  {
   "cell_type": "code",
   "execution_count": 17,
   "metadata": {
    "collapsed": false
   },
   "outputs": [
    {
     "ename": "NoMethodError",
     "evalue": "undefined method `new' for #<Object:0x007ff46c24e1c8>",
     "output_type": "error",
     "traceback": [
      "\u001b[31mNoMethodError\u001b[0m: undefined method `new' for #<Object:0x007ff46c24e1c8>",
      "\u001b[37m(pry):411:in `block in create'\u001b[0m",
      "\u001b[37m(pry):407:in `each'\u001b[0m",
      "\u001b[37m(pry):407:in `create'\u001b[0m",
      "\u001b[37m(pry):421:in `<main>'\u001b[0m",
      "\u001b[37m/Users/Coda/.rvm/gems/ruby-2.1.3@rails416/gems/pry-0.10.3/lib/pry/pry_instance.rb:355:in `eval'\u001b[0m",
      "\u001b[37m/Users/Coda/.rvm/gems/ruby-2.1.3@rails416/gems/pry-0.10.3/lib/pry/pry_instance.rb:355:in `evaluate_ruby'\u001b[0m",
      "\u001b[37m/Users/Coda/.rvm/gems/ruby-2.1.3@rails416/gems/pry-0.10.3/lib/pry/pry_instance.rb:323:in `handle_line'\u001b[0m",
      "\u001b[37m/Users/Coda/.rvm/gems/ruby-2.1.3@rails416/gems/pry-0.10.3/lib/pry/pry_instance.rb:243:in `block (2 levels) in eval'\u001b[0m",
      "\u001b[37m/Users/Coda/.rvm/gems/ruby-2.1.3@rails416/gems/pry-0.10.3/lib/pry/pry_instance.rb:242:in `catch'\u001b[0m",
      "\u001b[37m/Users/Coda/.rvm/gems/ruby-2.1.3@rails416/gems/pry-0.10.3/lib/pry/pry_instance.rb:242:in `block in eval'\u001b[0m",
      "\u001b[37m/Users/Coda/.rvm/gems/ruby-2.1.3@rails416/gems/pry-0.10.3/lib/pry/pry_instance.rb:241:in `catch'\u001b[0m",
      "\u001b[37m/Users/Coda/.rvm/gems/ruby-2.1.3@rails416/gems/pry-0.10.3/lib/pry/pry_instance.rb:241:in `eval'\u001b[0m",
      "\u001b[37m/Users/Coda/.rvm/gems/ruby-2.1.3@rails416/gems/iruby-0.2.7/lib/iruby/backend.rb:65:in `eval'\u001b[0m",
      "\u001b[37m/Users/Coda/.rvm/gems/ruby-2.1.3@rails416/gems/iruby-0.2.7/lib/iruby/backend.rb:12:in `eval'\u001b[0m",
      "\u001b[37m/Users/Coda/.rvm/gems/ruby-2.1.3@rails416/gems/iruby-0.2.7/lib/iruby/kernel.rb:87:in `execute_request'\u001b[0m",
      "\u001b[37m/Users/Coda/.rvm/gems/ruby-2.1.3@rails416/gems/iruby-0.2.7/lib/iruby/kernel.rb:47:in `dispatch'\u001b[0m",
      "\u001b[37m/Users/Coda/.rvm/gems/ruby-2.1.3@rails416/gems/iruby-0.2.7/lib/iruby/kernel.rb:37:in `run'\u001b[0m",
      "\u001b[37m/Users/Coda/.rvm/gems/ruby-2.1.3@rails416/gems/iruby-0.2.7/lib/iruby/command.rb:70:in `run_kernel'\u001b[0m",
      "\u001b[37m/Users/Coda/.rvm/gems/ruby-2.1.3@rails416/gems/iruby-0.2.7/lib/iruby/command.rb:34:in `run'\u001b[0m",
      "\u001b[37m/Users/Coda/.rvm/gems/ruby-2.1.3@rails416/gems/iruby-0.2.7/bin/iruby:5:in `<top (required)>'\u001b[0m",
      "\u001b[37m/Users/Coda/.rvm/gems/ruby-2.1.3@rails416/bin/iruby:23:in `load'\u001b[0m",
      "\u001b[37m/Users/Coda/.rvm/gems/ruby-2.1.3@rails416/bin/iruby:23:in `<main>'\u001b[0m"
     ]
    }
   ],
   "source": [
    "module CodaGem\n",
    "  # Your code goes here...\n",
    "  def self.create(path)\n",
    "  \t# A::B::C\n",
    "\n",
    "  \t# define root\n",
    "  \troot = Object\n",
    "  \t#split ::root\n",
    "  \tpath.split('::').each do |name|\n",
    "  \t\tnew_module = Object.const_defined?(name)? Object.const_get(name) : nil\n",
    "\n",
    "  \t\tunless new_module\n",
    "  \t\t\tnew_module = root.new\n",
    "  \t\t\troot.const_set(name, new_module)\n",
    "  \t\tend\n",
    "  \t\troot = new_module\n",
    "  \t\t\n",
    "  \tend\n",
    "  end\n",
    "end\n",
    "\n",
    "\n",
    "CodaGem.create('A::B::C')\n",
    "\n",
    "\n"
   ]
  },
  {
   "cell_type": "code",
   "execution_count": null,
   "metadata": {
    "collapsed": true
   },
   "outputs": [],
   "source": []
  },
  {
   "cell_type": "code",
   "execution_count": null,
   "metadata": {
    "collapsed": true
   },
   "outputs": [],
   "source": []
  },
  {
   "cell_type": "code",
   "execution_count": null,
   "metadata": {
    "collapsed": true
   },
   "outputs": [],
   "source": []
  },
  {
   "cell_type": "code",
   "execution_count": null,
   "metadata": {
    "collapsed": true
   },
   "outputs": [],
   "source": []
  },
  {
   "cell_type": "code",
   "execution_count": null,
   "metadata": {
    "collapsed": true
   },
   "outputs": [],
   "source": []
  }
 ],
 "metadata": {
  "kernelspec": {
   "display_name": "Ruby 2.1.3",
   "language": "ruby",
   "name": "ruby"
  },
  "language_info": {
   "file_extension": "rb",
   "mimetype": "application/x-ruby",
   "name": "ruby",
   "version": "2.1.3"
  }
 },
 "nbformat": 4,
 "nbformat_minor": 0
}
